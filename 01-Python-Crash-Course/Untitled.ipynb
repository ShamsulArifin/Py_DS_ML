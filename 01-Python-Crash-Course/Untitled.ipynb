{
 "cells": [
  {
   "cell_type": "code",
   "execution_count": 1,
   "id": "2b3f5fbc-e289-498d-9c8a-c4bb878e01a7",
   "metadata": {},
   "outputs": [
    {
     "data": {
      "text/plain": [
       "1"
      ]
     },
     "execution_count": 1,
     "metadata": {},
     "output_type": "execute_result"
    }
   ],
   "source": [
    "1"
   ]
  },
  {
   "cell_type": "code",
   "execution_count": 2,
   "id": "e98bb3b5-42f5-439f-9943-fc66a18a0074",
   "metadata": {},
   "outputs": [
    {
     "data": {
      "text/plain": [
       "1.0"
      ]
     },
     "execution_count": 2,
     "metadata": {},
     "output_type": "execute_result"
    }
   ],
   "source": [
    "1.0"
   ]
  },
  {
   "cell_type": "code",
   "execution_count": 3,
   "id": "3bc94665-d6c2-4841-8e00-4bdd61c6879d",
   "metadata": {},
   "outputs": [
    {
     "data": {
      "text/plain": [
       "2"
      ]
     },
     "execution_count": 3,
     "metadata": {},
     "output_type": "execute_result"
    }
   ],
   "source": [
    "1 + 1"
   ]
  },
  {
   "cell_type": "code",
   "execution_count": 4,
   "id": "2191ad40-ed5a-4c94-86df-de75e19997a8",
   "metadata": {},
   "outputs": [
    {
     "data": {
      "text/plain": [
       "3"
      ]
     },
     "execution_count": 4,
     "metadata": {},
     "output_type": "execute_result"
    }
   ],
   "source": [
    "1 * 3"
   ]
  },
  {
   "cell_type": "code",
   "execution_count": 5,
   "id": "423acf60-f867-41f5-9147-562cbf7cd2c2",
   "metadata": {},
   "outputs": [
    {
     "data": {
      "text/plain": [
       "0.5"
      ]
     },
     "execution_count": 5,
     "metadata": {},
     "output_type": "execute_result"
    }
   ],
   "source": [
    "1 / 2"
   ]
  },
  {
   "cell_type": "code",
   "execution_count": 6,
   "id": "c8329dbd-9bf0-4a9c-b264-50c4c2c92a59",
   "metadata": {},
   "outputs": [
    {
     "data": {
      "text/plain": [
       "16"
      ]
     },
     "execution_count": 6,
     "metadata": {},
     "output_type": "execute_result"
    }
   ],
   "source": [
    "2 ** 4"
   ]
  },
  {
   "cell_type": "code",
   "execution_count": 7,
   "id": "4c002c12-0e50-4fd6-933b-044ce6ddbdde",
   "metadata": {},
   "outputs": [
    {
     "data": {
      "text/plain": [
       "22"
      ]
     },
     "execution_count": 7,
     "metadata": {},
     "output_type": "execute_result"
    }
   ],
   "source": [
    "2 + 3 * 5 + 5"
   ]
  },
  {
   "cell_type": "code",
   "execution_count": 8,
   "id": "c5ed2df9-1566-477d-b1af-4f5162ed6031",
   "metadata": {},
   "outputs": [
    {
     "data": {
      "text/plain": [
       "50"
      ]
     },
     "execution_count": 8,
     "metadata": {},
     "output_type": "execute_result"
    }
   ],
   "source": [
    "(2+3)*(5+5)"
   ]
  },
  {
   "cell_type": "code",
   "execution_count": 9,
   "id": "8b66ac76-65fb-43e4-88c6-31145a5b1bae",
   "metadata": {},
   "outputs": [
    {
     "data": {
      "text/plain": [
       "0"
      ]
     },
     "execution_count": 9,
     "metadata": {},
     "output_type": "execute_result"
    }
   ],
   "source": [
    "4 % 2"
   ]
  },
  {
   "cell_type": "code",
   "execution_count": 10,
   "id": "e664a354-ccd2-42bc-9086-73a5d60c0230",
   "metadata": {},
   "outputs": [
    {
     "data": {
      "text/plain": [
       "1"
      ]
     },
     "execution_count": 10,
     "metadata": {},
     "output_type": "execute_result"
    }
   ],
   "source": [
    "5 % 2 "
   ]
  },
  {
   "cell_type": "code",
   "execution_count": 11,
   "id": "f821e528-ca6d-4475-ba8e-02e0dfc3b8af",
   "metadata": {},
   "outputs": [],
   "source": [
    "var = 2"
   ]
  },
  {
   "cell_type": "code",
   "execution_count": 12,
   "id": "b376677b-79c3-4a28-9331-3964c07e4741",
   "metadata": {},
   "outputs": [
    {
     "data": {
      "text/plain": [
       "2"
      ]
     },
     "execution_count": 12,
     "metadata": {},
     "output_type": "execute_result"
    }
   ],
   "source": [
    "var"
   ]
  },
  {
   "cell_type": "code",
   "execution_count": 14,
   "id": "7c4df64b-f369-41b4-8513-04da10255bd3",
   "metadata": {},
   "outputs": [],
   "source": [
    "x = 2\n",
    "y = 3"
   ]
  },
  {
   "cell_type": "code",
   "execution_count": 15,
   "id": "3cb62023-13de-4fd7-aed7-7259dc9050ae",
   "metadata": {},
   "outputs": [
    {
     "data": {
      "text/plain": [
       "5"
      ]
     },
     "execution_count": 15,
     "metadata": {},
     "output_type": "execute_result"
    }
   ],
   "source": [
    "x + y"
   ]
  },
  {
   "cell_type": "code",
   "execution_count": 16,
   "id": "e59c95a6-1f6e-4068-8b9f-a2abcd70e5e5",
   "metadata": {},
   "outputs": [],
   "source": [
    "x = x + x"
   ]
  },
  {
   "cell_type": "code",
   "execution_count": 17,
   "id": "b746457e-89aa-4827-9fe7-816a21c00f1e",
   "metadata": {},
   "outputs": [
    {
     "data": {
      "text/plain": [
       "4"
      ]
     },
     "execution_count": 17,
     "metadata": {},
     "output_type": "execute_result"
    }
   ],
   "source": [
    "x"
   ]
  },
  {
   "cell_type": "code",
   "execution_count": 18,
   "id": "c091bb1a-9c52-42d1-b5b6-4df98467489a",
   "metadata": {},
   "outputs": [],
   "source": [
    "x = x + x"
   ]
  },
  {
   "cell_type": "code",
   "execution_count": 19,
   "id": "eadfaaf7-7190-4637-b716-fcdee73429c7",
   "metadata": {},
   "outputs": [
    {
     "data": {
      "text/plain": [
       "8"
      ]
     },
     "execution_count": 19,
     "metadata": {},
     "output_type": "execute_result"
    }
   ],
   "source": [
    "x"
   ]
  },
  {
   "cell_type": "code",
   "execution_count": 24,
   "id": "d4be4ca8-9c7c-4c93-ac0d-d5d46830dca6",
   "metadata": {},
   "outputs": [],
   "source": [
    "name_var = 12"
   ]
  },
  {
   "cell_type": "code",
   "execution_count": 25,
   "id": "0d22b218-6566-4fe6-bef8-39b5b2216e0c",
   "metadata": {},
   "outputs": [],
   "source": [
    "# Strings COMMENT"
   ]
  },
  {
   "cell_type": "code",
   "execution_count": 26,
   "id": "56dd7620-1902-4520-a9f3-f4a5fa07653e",
   "metadata": {},
   "outputs": [
    {
     "data": {
      "text/plain": [
       "'single quote'"
      ]
     },
     "execution_count": 26,
     "metadata": {},
     "output_type": "execute_result"
    }
   ],
   "source": [
    "'single quote'"
   ]
  },
  {
   "cell_type": "code",
   "execution_count": 27,
   "id": "b26fb91c-056d-4eba-a355-6374ffd33f04",
   "metadata": {},
   "outputs": [
    {
     "data": {
      "text/plain": [
       "'double quote'"
      ]
     },
     "execution_count": 27,
     "metadata": {},
     "output_type": "execute_result"
    }
   ],
   "source": [
    "\"double quote\""
   ]
  },
  {
   "cell_type": "code",
   "execution_count": 28,
   "id": "9478b6ac-2c5e-4d22-ae42-119b56b9eab7",
   "metadata": {},
   "outputs": [
    {
     "data": {
      "text/plain": [
       "\"'single quote inside double quote'\""
      ]
     },
     "execution_count": 28,
     "metadata": {},
     "output_type": "execute_result"
    }
   ],
   "source": [
    "\"'single quote inside double quote'\""
   ]
  },
  {
   "cell_type": "code",
   "execution_count": 29,
   "id": "28ee37c9-3182-4758-8bfa-7682aebe94d4",
   "metadata": {},
   "outputs": [
    {
     "data": {
      "text/plain": [
       "\"I can't go\""
      ]
     },
     "execution_count": 29,
     "metadata": {},
     "output_type": "execute_result"
    }
   ],
   "source": [
    "\"I can't go\""
   ]
  },
  {
   "cell_type": "code",
   "execution_count": 30,
   "id": "83a9ce86-2f9e-4688-a9b7-87b2f87e5734",
   "metadata": {},
   "outputs": [],
   "source": [
    "X = 'HELLO'"
   ]
  },
  {
   "cell_type": "code",
   "execution_count": 31,
   "id": "1d4da11a-4e94-42aa-893b-4817e6daee12",
   "metadata": {},
   "outputs": [
    {
     "data": {
      "text/plain": [
       "'HELLO'"
      ]
     },
     "execution_count": 31,
     "metadata": {},
     "output_type": "execute_result"
    }
   ],
   "source": [
    "X"
   ]
  },
  {
   "cell_type": "code",
   "execution_count": 32,
   "id": "2c8a2812-3f88-4f94-8ba1-3c15e5c2921a",
   "metadata": {},
   "outputs": [
    {
     "name": "stdout",
     "output_type": "stream",
     "text": [
      "HELLO\n"
     ]
    }
   ],
   "source": [
    "print(X)"
   ]
  },
  {
   "cell_type": "code",
   "execution_count": 33,
   "id": "abba5be8-ccc2-4c9d-96b8-3942acce6054",
   "metadata": {},
   "outputs": [],
   "source": [
    "num = 12"
   ]
  },
  {
   "cell_type": "code",
   "execution_count": 34,
   "id": "d500a386-a851-422b-9642-ecdb9e33214f",
   "metadata": {},
   "outputs": [],
   "source": [
    "name = 'sam'"
   ]
  },
  {
   "cell_type": "code",
   "execution_count": 38,
   "id": "55c66a31-c770-407b-91e4-4dc0438d0252",
   "metadata": {},
   "outputs": [
    {
     "name": "stdout",
     "output_type": "stream",
     "text": [
      "My number is 12 and my name is sam, more 12\n"
     ]
    }
   ],
   "source": [
    "print('My number is {one} and my name is {two}, more {one}'.format(one = num, two = name))"
   ]
  },
  {
   "cell_type": "code",
   "execution_count": 42,
   "id": "7237a09e-6463-4c40-98a2-4970fe0720df",
   "metadata": {},
   "outputs": [],
   "source": [
    " s = 'abcdefghijk'"
   ]
  },
  {
   "cell_type": "code",
   "execution_count": 46,
   "id": "fa03b382-6803-46a8-9bd0-5e092cd016d8",
   "metadata": {},
   "outputs": [
    {
     "data": {
      "text/plain": [
       "'abcd'"
      ]
     },
     "execution_count": 46,
     "metadata": {},
     "output_type": "execute_result"
    }
   ],
   "source": [
    "s[0:4]"
   ]
  },
  {
   "cell_type": "code",
   "execution_count": 44,
   "id": "6d04df39-34c0-4504-8742-6d0593b2e33c",
   "metadata": {},
   "outputs": [
    {
     "data": {
      "text/plain": [
       "'e'"
      ]
     },
     "execution_count": 44,
     "metadata": {},
     "output_type": "execute_result"
    }
   ],
   "source": [
    "s[4]"
   ]
  },
  {
   "cell_type": "code",
   "execution_count": 47,
   "id": "67076a79-a111-4044-a094-681d6551e804",
   "metadata": {},
   "outputs": [
    {
     "data": {
      "text/plain": [
       "'abcd'"
      ]
     },
     "execution_count": 47,
     "metadata": {},
     "output_type": "execute_result"
    }
   ],
   "source": [
    "s[:4]"
   ]
  },
  {
   "cell_type": "code",
   "execution_count": 48,
   "id": "66a52346-ab65-4e46-847b-2ad5649033c4",
   "metadata": {},
   "outputs": [
    {
     "data": {
      "text/plain": [
       "'def'"
      ]
     },
     "execution_count": 48,
     "metadata": {},
     "output_type": "execute_result"
    }
   ],
   "source": [
    "s[3:6]"
   ]
  },
  {
   "cell_type": "code",
   "execution_count": 49,
   "id": "0773e18b-58ea-44cb-8825-352aa9234771",
   "metadata": {},
   "outputs": [
    {
     "data": {
      "text/plain": [
       "[1, 2, 3]"
      ]
     },
     "execution_count": 49,
     "metadata": {},
     "output_type": "execute_result"
    }
   ],
   "source": [
    "[1, 2, 3]"
   ]
  },
  {
   "cell_type": "code",
   "execution_count": 51,
   "id": "fa74d91e-339b-477c-9aaf-f0afe31d3c07",
   "metadata": {},
   "outputs": [
    {
     "data": {
      "text/plain": [
       "['a', 'b', 'c']"
      ]
     },
     "execution_count": 51,
     "metadata": {},
     "output_type": "execute_result"
    }
   ],
   "source": [
    "['a', 'b', 'c']"
   ]
  },
  {
   "cell_type": "code",
   "execution_count": 52,
   "id": "adb14077-5bc3-40f5-9d34-4982957adeab",
   "metadata": {},
   "outputs": [],
   "source": [
    "my_list = ['a', 'b', 'c']"
   ]
  },
  {
   "cell_type": "code",
   "execution_count": 53,
   "id": "20ad3a92-de58-4d3a-980c-da448e773ed6",
   "metadata": {},
   "outputs": [],
   "source": [
    "my_list.append('d')"
   ]
  },
  {
   "cell_type": "code",
   "execution_count": 55,
   "id": "d8d3e399-044a-479f-ae36-fb35b390d7e5",
   "metadata": {},
   "outputs": [
    {
     "data": {
      "text/plain": [
       "['a', 'b', 'c', 'd']"
      ]
     },
     "execution_count": 55,
     "metadata": {},
     "output_type": "execute_result"
    }
   ],
   "source": [
    "my_list"
   ]
  },
  {
   "cell_type": "code",
   "execution_count": null,
   "id": "bacb4a7c-31fc-4f90-9e62-cce639390ff5",
   "metadata": {},
   "outputs": [],
   "source": []
  }
 ],
 "metadata": {
  "kernelspec": {
   "display_name": "Python [conda env:base] *",
   "language": "python",
   "name": "conda-base-py"
  },
  "language_info": {
   "codemirror_mode": {
    "name": "ipython",
    "version": 3
   },
   "file_extension": ".py",
   "mimetype": "text/x-python",
   "name": "python",
   "nbconvert_exporter": "python",
   "pygments_lexer": "ipython3",
   "version": "3.13.5"
  }
 },
 "nbformat": 4,
 "nbformat_minor": 5
}
